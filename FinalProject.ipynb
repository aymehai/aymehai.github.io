{
 "cells": [
  {
   "cell_type": "markdown",
   "metadata": {},
   "source": [
    "# News Sentiment Analyzer & Stock Market Correlations\n",
    " by :  Aymen Mehai"
   ]
  },
  {
   "cell_type": "markdown",
   "metadata": {},
   "source": [
    "# Introduction:\n",
    "In this project I have collected news articles about Twitter , a social media company that was recently aqquired by billionaire Elon Musk, I plan to run a sentiment analysis on the news articles that I have collected from the The New York Times API. Then with the overall sentiment of the news articles come up with stock price predictions."
   ]
  },
  {
   "cell_type": "markdown",
   "metadata": {},
   "source": [
    "# Tools used:\n",
    "\n",
    "https://docs.python.org/3/library/index.html\n",
    "\n",
    "http://docs.python-requests.org/en/master/\n",
    "\n",
    "https://pandas.pydata.org/pandas-docs/stable/\n",
    "\n",
    "https://plot.ly/python/,\n",
    "\n",
    "I had plans to use https://amueller.github.io/word_cloud/generated/wordcloud.WordCloud.html,\n",
    "but due to time I was not able to implement. "
   ]
  },
  {
   "cell_type": "code",
   "execution_count": 1,
   "metadata": {},
   "outputs": [],
   "source": [
    "#pip install wordcloud \n",
    "#pip install pandas_datareader\n",
    "#ip install plotly"
   ]
  },
  {
   "cell_type": "code",
   "execution_count": 2,
   "metadata": {},
   "outputs": [],
   "source": [
    "#Libraries\n",
    "import requests\n",
    "import json\n",
    "import pandas as pd\n",
    "import time\n",
    "from collections import Counter\n",
    "import ast\n",
    "import matplotlib.pyplot as plt"
   ]
  },
  {
   "cell_type": "markdown",
   "metadata": {},
   "source": [
    "# Part1: Scraping News\n",
    "\n",
    "For this project we demonstrate how to use the New York Times Article Search API (http://developer.nytimes.com/). This is a free API and with this one can search New York Times articles. In order to use it, you must register on http://developer.nytimes.com/ for an API key."
   ]
  },
  {
   "cell_type": "code",
   "execution_count": 3,
   "metadata": {
    "scrolled": true
   },
   "outputs": [],
   "source": [
    "#To scrape article for another company set company name here\n",
    "company = \"Twitter\"\n",
    "begin_date = 20211201\n",
    "end_date = 20220519\n",
    "\n",
    "#Define blank dataframe\n",
    "df = pd.DataFrame([])\n",
    "\n",
    "#Iterate from page 0-5\n",
    "for page in range(0,5):\n",
    "    url =\"http://api.nytimes.com/svc/search/v2/articlesearch.json?q={}&page={}&fq=source:(%22The%20New%20York%20Times%22)AND%20headline:({})&begin_date={}&end_date={}&sort=oldest&api-key=78babcfadfbe468da2a609d2795c98cc\".format(company, page, company, begin_date, end_date);\n",
    "    #print(url)\n",
    "    r = requests.get(url)\n",
    "    \n",
    "    #print(r.json()['response']['docs'])\n",
    "    \n",
    "    df = pd.DataFrame.from_dict(pd.read_json(url)['response']['docs'])"
   ]
  },
  {
   "cell_type": "code",
   "execution_count": 4,
   "metadata": {},
   "outputs": [
    {
     "data": {
      "text/html": [
       "<div>\n",
       "<style scoped>\n",
       "    .dataframe tbody tr th:only-of-type {\n",
       "        vertical-align: middle;\n",
       "    }\n",
       "\n",
       "    .dataframe tbody tr th {\n",
       "        vertical-align: top;\n",
       "    }\n",
       "\n",
       "    .dataframe thead th {\n",
       "        text-align: right;\n",
       "    }\n",
       "</style>\n",
       "<table border=\"1\" class=\"dataframe\">\n",
       "  <thead>\n",
       "    <tr style=\"text-align: right;\">\n",
       "      <th></th>\n",
       "      <th>index</th>\n",
       "      <th>abstract</th>\n",
       "      <th>web_url</th>\n",
       "      <th>snippet</th>\n",
       "      <th>lead_paragraph</th>\n",
       "      <th>source</th>\n",
       "      <th>multimedia</th>\n",
       "      <th>headline</th>\n",
       "      <th>keywords</th>\n",
       "      <th>pub_date</th>\n",
       "      <th>...</th>\n",
       "      <th>news_desk</th>\n",
       "      <th>section_name</th>\n",
       "      <th>subsection_name</th>\n",
       "      <th>byline</th>\n",
       "      <th>type_of_material</th>\n",
       "      <th>_id</th>\n",
       "      <th>word_count</th>\n",
       "      <th>uri</th>\n",
       "      <th>print_section</th>\n",
       "      <th>print_page</th>\n",
       "    </tr>\n",
       "  </thead>\n",
       "  <tbody>\n",
       "    <tr>\n",
       "      <th>0</th>\n",
       "      <td>0</td>\n",
       "      <td>Will he go hostile, what is Twitter really wor...</td>\n",
       "      <td>https://www.nytimes.com/2022/04/18/business/de...</td>\n",
       "      <td>Will he go hostile, what is Twitter really wor...</td>\n",
       "      <td>Over the weekend, Twitter’s board put in place...</td>\n",
       "      <td>The New York Times</td>\n",
       "      <td>[{'rank': 0, 'subtype': 'xlarge', 'caption': N...</td>\n",
       "      <td>{'main': 'Five Big Questions for Elon Musk and...</td>\n",
       "      <td>[{'name': 'persons', 'value': 'Musk, Elon', 'r...</td>\n",
       "      <td>2022-04-18T12:37:49+0000</td>\n",
       "      <td>...</td>\n",
       "      <td>Business</td>\n",
       "      <td>Business Day</td>\n",
       "      <td>DealBook</td>\n",
       "      <td>{'original': 'By Andrew Ross Sorkin, Jason Kar...</td>\n",
       "      <td>News</td>\n",
       "      <td>nyt://article/1a6a37af-108a-56dd-9aba-5786d29f...</td>\n",
       "      <td>1786</td>\n",
       "      <td>nyt://article/1a6a37af-108a-56dd-9aba-5786d29f...</td>\n",
       "      <td>NaN</td>\n",
       "      <td>NaN</td>\n",
       "    </tr>\n",
       "  </tbody>\n",
       "</table>\n",
       "<p>1 rows × 21 columns</p>\n",
       "</div>"
      ],
      "text/plain": [
       "   index                                           abstract  \\\n",
       "0      0  Will he go hostile, what is Twitter really wor...   \n",
       "\n",
       "                                             web_url  \\\n",
       "0  https://www.nytimes.com/2022/04/18/business/de...   \n",
       "\n",
       "                                             snippet  \\\n",
       "0  Will he go hostile, what is Twitter really wor...   \n",
       "\n",
       "                                      lead_paragraph              source  \\\n",
       "0  Over the weekend, Twitter’s board put in place...  The New York Times   \n",
       "\n",
       "                                          multimedia  \\\n",
       "0  [{'rank': 0, 'subtype': 'xlarge', 'caption': N...   \n",
       "\n",
       "                                            headline  \\\n",
       "0  {'main': 'Five Big Questions for Elon Musk and...   \n",
       "\n",
       "                                            keywords  \\\n",
       "0  [{'name': 'persons', 'value': 'Musk, Elon', 'r...   \n",
       "\n",
       "                   pub_date  ... news_desk  section_name subsection_name  \\\n",
       "0  2022-04-18T12:37:49+0000  ...  Business  Business Day        DealBook   \n",
       "\n",
       "                                              byline type_of_material  \\\n",
       "0  {'original': 'By Andrew Ross Sorkin, Jason Kar...             News   \n",
       "\n",
       "                                                 _id word_count  \\\n",
       "0  nyt://article/1a6a37af-108a-56dd-9aba-5786d29f...       1786   \n",
       "\n",
       "                                                 uri print_section print_page  \n",
       "0  nyt://article/1a6a37af-108a-56dd-9aba-5786d29f...           NaN        NaN  \n",
       "\n",
       "[1 rows x 21 columns]"
      ]
     },
     "execution_count": 4,
     "metadata": {},
     "output_type": "execute_result"
    }
   ],
   "source": [
    "df=df.reset_index()\n",
    "df.to_csv(company+'_news.txt', header=True)\n",
    "df.head(1)"
   ]
  },
  {
   "cell_type": "markdown",
   "metadata": {
    "jp-MarkdownHeadingCollapsed": true,
    "tags": []
   },
   "source": [
    "# Part1.1: Cleaning the Data\n"
   ]
  },
  {
   "cell_type": "code",
   "execution_count": 5,
   "metadata": {},
   "outputs": [
    {
     "data": {
      "text/html": [
       "<div>\n",
       "<style scoped>\n",
       "    .dataframe tbody tr th:only-of-type {\n",
       "        vertical-align: middle;\n",
       "    }\n",
       "\n",
       "    .dataframe tbody tr th {\n",
       "        vertical-align: top;\n",
       "    }\n",
       "\n",
       "    .dataframe thead th {\n",
       "        text-align: right;\n",
       "    }\n",
       "</style>\n",
       "<table border=\"1\" class=\"dataframe\">\n",
       "  <thead>\n",
       "    <tr style=\"text-align: right;\">\n",
       "      <th></th>\n",
       "      <th>abstract</th>\n",
       "      <th>web_url</th>\n",
       "      <th>snippet</th>\n",
       "      <th>lead_paragraph</th>\n",
       "      <th>source</th>\n",
       "      <th>headline</th>\n",
       "      <th>keywords</th>\n",
       "      <th>pub_date</th>\n",
       "      <th>news_desk</th>\n",
       "      <th>subsection_name</th>\n",
       "      <th>type_of_material</th>\n",
       "      <th>_id</th>\n",
       "      <th>word_count</th>\n",
       "      <th>print_section</th>\n",
       "    </tr>\n",
       "  </thead>\n",
       "  <tbody>\n",
       "    <tr>\n",
       "      <th>0</th>\n",
       "      <td>Will he go hostile, what is Twitter really wor...</td>\n",
       "      <td>https://www.nytimes.com/2022/04/18/business/de...</td>\n",
       "      <td>Will he go hostile, what is Twitter really wor...</td>\n",
       "      <td>Over the weekend, Twitter’s board put in place...</td>\n",
       "      <td>The New York Times</td>\n",
       "      <td>Five Big Questions for Elon Musk and Twitter</td>\n",
       "      <td>[{'name': 'persons', 'value': 'Musk, Elon', 'r...</td>\n",
       "      <td>2022-04-18 12:37:49+00:00</td>\n",
       "      <td>Business</td>\n",
       "      <td>DealBook</td>\n",
       "      <td>News</td>\n",
       "      <td>nyt://article/1a6a37af-108a-56dd-9aba-5786d29f...</td>\n",
       "      <td>1786</td>\n",
       "      <td>NaN</td>\n",
       "    </tr>\n",
       "    <tr>\n",
       "      <th>1</th>\n",
       "      <td>After Twitter’s board put in place a poison pi...</td>\n",
       "      <td>https://www.nytimes.com/2022/04/18/business/th...</td>\n",
       "      <td>After Twitter’s board put in place a poison pi...</td>\n",
       "      <td>Over the holiday weekend, Twitter’s board put ...</td>\n",
       "      <td>The New York Times</td>\n",
       "      <td>The big questions about what happens next in E...</td>\n",
       "      <td>[]</td>\n",
       "      <td>2022-04-18 12:51:26+00:00</td>\n",
       "      <td>Business</td>\n",
       "      <td>NaN</td>\n",
       "      <td>News</td>\n",
       "      <td>nyt://article/a6fc6bcf-726b-5881-818d-44c1b60f...</td>\n",
       "      <td>601</td>\n",
       "      <td>NaN</td>\n",
       "    </tr>\n",
       "    <tr>\n",
       "      <th>2</th>\n",
       "      <td>Readers discuss the free speech and media owne...</td>\n",
       "      <td>https://www.nytimes.com/2022/04/18/opinion/let...</td>\n",
       "      <td>Readers discuss the free speech and media owne...</td>\n",
       "      <td>To the Editor:</td>\n",
       "      <td>The New York Times</td>\n",
       "      <td>Elon Musk’s Bid to Take Over Twitter</td>\n",
       "      <td>[{'name': 'persons', 'value': 'Musk, Elon', 'r...</td>\n",
       "      <td>2022-04-18 16:16:00+00:00</td>\n",
       "      <td>Letters</td>\n",
       "      <td>Letters</td>\n",
       "      <td>Letter</td>\n",
       "      <td>nyt://article/b1b93688-f41b-5dc5-b0f3-04bc7c70...</td>\n",
       "      <td>1113</td>\n",
       "      <td>A</td>\n",
       "    </tr>\n",
       "    <tr>\n",
       "      <th>3</th>\n",
       "      <td>Investors have been skeptical that Elon Musk w...</td>\n",
       "      <td>https://www.nytimes.com/2022/04/18/business/ap...</td>\n",
       "      <td>Investors have been skeptical that Elon Musk w...</td>\n",
       "      <td>The private equity firm Apollo Global Manageme...</td>\n",
       "      <td>The New York Times</td>\n",
       "      <td>Apollo is said to be considering participating...</td>\n",
       "      <td>[{'name': 'subject', 'value': 'Computers and t...</td>\n",
       "      <td>2022-04-18 21:07:23+00:00</td>\n",
       "      <td>Business</td>\n",
       "      <td>NaN</td>\n",
       "      <td>News</td>\n",
       "      <td>nyt://article/aedeec92-e5be-5f1c-8aac-a02902f0...</td>\n",
       "      <td>317</td>\n",
       "      <td>NaN</td>\n",
       "    </tr>\n",
       "    <tr>\n",
       "      <th>4</th>\n",
       "      <td>The world’s richest man is trying to shore up ...</td>\n",
       "      <td>https://www.nytimes.com/2022/04/19/technology/...</td>\n",
       "      <td>The world’s richest man is trying to shore up ...</td>\n",
       "      <td>Elon Musk is racing to secure funding for his ...</td>\n",
       "      <td>The New York Times</td>\n",
       "      <td>Elon Musk Races to Secure Financing for Twitte...</td>\n",
       "      <td>[{'name': 'subject', 'value': 'Social Media', ...</td>\n",
       "      <td>2022-04-19 22:19:18+00:00</td>\n",
       "      <td>Business</td>\n",
       "      <td>NaN</td>\n",
       "      <td>News</td>\n",
       "      <td>nyt://article/7392183c-993d-5359-89f0-cfb0cc5a...</td>\n",
       "      <td>1039</td>\n",
       "      <td>B</td>\n",
       "    </tr>\n",
       "  </tbody>\n",
       "</table>\n",
       "</div>"
      ],
      "text/plain": [
       "                                            abstract  \\\n",
       "0  Will he go hostile, what is Twitter really wor...   \n",
       "1  After Twitter’s board put in place a poison pi...   \n",
       "2  Readers discuss the free speech and media owne...   \n",
       "3  Investors have been skeptical that Elon Musk w...   \n",
       "4  The world’s richest man is trying to shore up ...   \n",
       "\n",
       "                                             web_url  \\\n",
       "0  https://www.nytimes.com/2022/04/18/business/de...   \n",
       "1  https://www.nytimes.com/2022/04/18/business/th...   \n",
       "2  https://www.nytimes.com/2022/04/18/opinion/let...   \n",
       "3  https://www.nytimes.com/2022/04/18/business/ap...   \n",
       "4  https://www.nytimes.com/2022/04/19/technology/...   \n",
       "\n",
       "                                             snippet  \\\n",
       "0  Will he go hostile, what is Twitter really wor...   \n",
       "1  After Twitter’s board put in place a poison pi...   \n",
       "2  Readers discuss the free speech and media owne...   \n",
       "3  Investors have been skeptical that Elon Musk w...   \n",
       "4  The world’s richest man is trying to shore up ...   \n",
       "\n",
       "                                      lead_paragraph              source  \\\n",
       "0  Over the weekend, Twitter’s board put in place...  The New York Times   \n",
       "1  Over the holiday weekend, Twitter’s board put ...  The New York Times   \n",
       "2                                     To the Editor:  The New York Times   \n",
       "3  The private equity firm Apollo Global Manageme...  The New York Times   \n",
       "4  Elon Musk is racing to secure funding for his ...  The New York Times   \n",
       "\n",
       "                                            headline  \\\n",
       "0       Five Big Questions for Elon Musk and Twitter   \n",
       "1  The big questions about what happens next in E...   \n",
       "2               Elon Musk’s Bid to Take Over Twitter   \n",
       "3  Apollo is said to be considering participating...   \n",
       "4  Elon Musk Races to Secure Financing for Twitte...   \n",
       "\n",
       "                                            keywords  \\\n",
       "0  [{'name': 'persons', 'value': 'Musk, Elon', 'r...   \n",
       "1                                                 []   \n",
       "2  [{'name': 'persons', 'value': 'Musk, Elon', 'r...   \n",
       "3  [{'name': 'subject', 'value': 'Computers and t...   \n",
       "4  [{'name': 'subject', 'value': 'Social Media', ...   \n",
       "\n",
       "                   pub_date news_desk subsection_name type_of_material  \\\n",
       "0 2022-04-18 12:37:49+00:00  Business        DealBook             News   \n",
       "1 2022-04-18 12:51:26+00:00  Business             NaN             News   \n",
       "2 2022-04-18 16:16:00+00:00   Letters         Letters           Letter   \n",
       "3 2022-04-18 21:07:23+00:00  Business             NaN             News   \n",
       "4 2022-04-19 22:19:18+00:00  Business             NaN             News   \n",
       "\n",
       "                                                 _id  word_count print_section  \n",
       "0  nyt://article/1a6a37af-108a-56dd-9aba-5786d29f...        1786           NaN  \n",
       "1  nyt://article/a6fc6bcf-726b-5881-818d-44c1b60f...         601           NaN  \n",
       "2  nyt://article/b1b93688-f41b-5dc5-b0f3-04bc7c70...        1113             A  \n",
       "3  nyt://article/aedeec92-e5be-5f1c-8aac-a02902f0...         317           NaN  \n",
       "4  nyt://article/7392183c-993d-5359-89f0-cfb0cc5a...        1039             B  "
      ]
     },
     "execution_count": 5,
     "metadata": {},
     "output_type": "execute_result"
    }
   ],
   "source": [
    "#Read news articles from csv to pandas dataframe\n",
    "df= pd.read_csv(company+'_news.txt')\n",
    "df.head()\n",
    "\n",
    "#Data cleaning \n",
    "#dropping useless columns\n",
    "df = df.drop(['Unnamed: 0', 'index', 'byline', 'document_type', 'multimedia', 'print_page', 'uri', 'section_name'], axis=1)\n",
    "\n",
    "#Convert publication date to datetime object\n",
    "df['pub_date'] = pd.to_datetime(df['pub_date'])\n",
    "\n",
    "#Extract main headline from headline column\n",
    "df['headline']= df['headline'].apply(eval).apply(lambda x: x['main'])\n",
    "\n",
    "df.head()"
   ]
  },
  {
   "cell_type": "markdown",
   "metadata": {
    "tags": []
   },
   "source": [
    "# Part 1.2: EDA of News articles \n",
    "\n",
    "Here we are going to be looking for the Top 10 subjects that are in the articles.\n"
   ]
  },
  {
   "cell_type": "code",
   "execution_count": 6,
   "metadata": {},
   "outputs": [
    {
     "name": "stdout",
     "output_type": "stream",
     "text": [
      " Top 10 Subjects in the NEWS Articles:\n",
      " [('Social Media', 6), ('Mergers, Acquisitions and Divestitures', 5), ('Computers and the Internet', 4), ('Private Equity', 2), ('Freedom of the Press', 1), ('Russian Invasion of Ukraine (2022)', 1), ('United States Politics and Government', 1), ('Colleges and Universities', 1), ('Black People', 1), ('Blacks', 1)]\n"
     ]
    }
   ],
   "source": [
    "# Extracting frequent keyowrds in articles\n",
    "all_subjects=[]\n",
    "\n",
    "for idx,i in df.iterrows():\n",
    "        # subject\n",
    "        subjects = []\n",
    "        # convert str to list \n",
    "        i['keywords']= ast.literal_eval(i['keywords'])\n",
    "        \n",
    "        for x in range(0,len(i['keywords'])):\n",
    "            if 'subject' in i['keywords'][x]['name']:\n",
    "                subjects.append(i['keywords'][x]['value'])\n",
    "                all_subjects.append(i['keywords'][x]['value'])\n",
    "                \n",
    "        #print(subjects, idx)\n",
    "        df.loc[idx,'subject'] = str(subjects)\n",
    "\n",
    "#Most common subjects \n",
    "counts = Counter(all_subjects)\n",
    "print(\" Top 10 Subjects in the NEWS Articles:\\n\",counts.most_common(10))\n"
   ]
  },
  {
   "cell_type": "markdown",
   "metadata": {},
   "source": [
    "# Plotting the Data"
   ]
  },
  {
   "cell_type": "code",
   "execution_count": 7,
   "metadata": {},
   "outputs": [
    {
     "name": "stderr",
     "output_type": "stream",
     "text": [
      "/tmp/ipykernel_2320/3547691946.py:1: FutureWarning: Passing a negative integer is deprecated in version 1.0 and will not be supported in future version. Instead, use None to not limit the column width.\n",
      "  pd.set_option('display.max_colwidth', -1)\n",
      "/tmp/ipykernel_2320/3547691946.py:5: UserWarning: FixedFormatter should only be used together with FixedLocator\n",
      "  ax.set_xticklabels(counts.keys(), rotation=90)\n"
     ]
    },
    {
     "data": {
      "image/png": "[encoded data removed]",
      "text/plain": [
       "<Figure size 720x720 with 1 Axes>"
      ]
     },
     "metadata": {
      "needs_background": "light"
     },
     "output_type": "display_data"
    }
   ],
   "source": [
    "pd.set_option('display.max_colwidth', -1)\n",
    "\n",
    "plt.figure(figsize=(10,10))\n",
    "ax = plt.axes()\n",
    "ax.set_xticklabels(counts.keys(), rotation=90)\n",
    "\n",
    "plt.bar(counts.keys(), counts.values(), width=.5)\n",
    "plt.show()"
   ]
  },
  {
   "cell_type": "markdown",
   "metadata": {},
   "source": [
    "The news articles about Twitter were collected for year of 2022. Total articles collected is 27."
   ]
  },
  {
   "cell_type": "code",
   "execution_count": 8,
   "metadata": {},
   "outputs": [
    {
     "data": {
      "text/plain": [
       "<AxesSubplot:xlabel='pub_date'>"
      ]
     },
     "execution_count": 8,
     "metadata": {},
     "output_type": "execute_result"
    },
    {
     "data": {
      "image/png": "[encoded data removed]",
      "text/plain": [
       "<Figure size 432x288 with 1 Axes>"
      ]
     },
     "metadata": {
      "needs_background": "light"
     },
     "output_type": "display_data"
    }
   ],
   "source": [
    "#Number of articles published each month\n",
    "df.resample('M', on='pub_date').size().plot(kind='bar')"
   ]
  },
  {
   "cell_type": "code",
   "execution_count": 9,
   "metadata": {},
   "outputs": [
    {
     "data": {
      "text/plain": [
       "<AxesSubplot:ylabel='news_desk'>"
      ]
     },
     "execution_count": 9,
     "metadata": {},
     "output_type": "execute_result"
    },
    {
     "data": {
      "image/png": "[encoded data removed]",
      "text/plain": [
       "<Figure size 864x864 with 1 Axes>"
      ]
     },
     "metadata": {},
     "output_type": "display_data"
    }
   ],
   "source": [
    "#plot percentage inside chart\n",
    "plt.figure(figsize=(12,12))\n",
    "df['news_desk'].value_counts().plot(kind='pie', autopct='%1.0f%%')\n"
   ]
  },
  {
   "cell_type": "code",
   "execution_count": null,
   "metadata": {},
   "outputs": [],
   "source": []
  }
 ],
 "metadata": {
  "celltoolbar": "Raw Cell Format",
  "kernelspec": {
   "display_name": "Python 3 (ipykernel)",
   "language": "python",
   "name": "python3"
  },
  "language_info": {
   "codemirror_mode": {
    "name": "ipython",
    "version": 3
   },
   "file_extension": ".py",
   "mimetype": "text/x-python",
   "name": "python",
   "nbconvert_exporter": "python",
   "pygments_lexer": "ipython3",
   "version": "3.9.7"
  }
 },
 "nbformat": 4,
 "nbformat_minor": 4
}
